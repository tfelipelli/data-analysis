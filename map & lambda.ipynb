{
 "cells": [
  {
   "cell_type": "code",
   "execution_count": 2,
   "metadata": {
    "collapsed": true
   },
   "outputs": [],
   "source": [
    "import os\n",
    "import numpy as np\n",
    "import pandas as pd"
   ]
  },
  {
   "cell_type": "markdown",
   "metadata": {},
   "source": [
    "# map"
   ]
  },
  {
   "cell_type": "code",
   "execution_count": 2,
   "metadata": {
    "collapsed": true
   },
   "outputs": [],
   "source": [
    "s = pd.Series( name=\"Compras\",\n",
    "                      index=[\"Leite\", \"Ovos\", \"Carne\", \"Arroz\", \"Feijão\"],  \n",
    "                      data=[2, 12, 1, 5, 2])"
   ]
  },
  {
   "cell_type": "code",
   "execution_count": 3,
   "metadata": {
    "collapsed": true
   },
   "outputs": [],
   "source": [
    "#função de transformação\n",
    "def fn(x):\n",
    "    return x ** 2 + x - 100"
   ]
  },
  {
   "cell_type": "code",
   "execution_count": 4,
   "metadata": {},
   "outputs": [
    {
     "data": {
      "text/plain": [
       "Leite    -94\n",
       "Ovos      56\n",
       "Carne    -98\n",
       "Arroz    -70\n",
       "Feijão   -94\n",
       "Name: Compras, dtype: int64"
      ]
     },
     "execution_count": 4,
     "metadata": {},
     "output_type": "execute_result"
    }
   ],
   "source": [
    "#transformação elemento a elemento\n",
    "s.map(fn)"
   ]
  },
  {
   "cell_type": "code",
   "execution_count": 9,
   "metadata": {},
   "outputs": [
    {
     "data": {
      "text/html": [
       "<div>\n",
       "<style>\n",
       "    .dataframe thead tr:only-child th {\n",
       "        text-align: right;\n",
       "    }\n",
       "\n",
       "    .dataframe thead th {\n",
       "        text-align: left;\n",
       "    }\n",
       "\n",
       "    .dataframe tbody tr th {\n",
       "        vertical-align: top;\n",
       "    }\n",
       "</style>\n",
       "<table border=\"1\" class=\"dataframe\">\n",
       "  <thead>\n",
       "    <tr style=\"text-align: right;\">\n",
       "      <th></th>\n",
       "      <th>Quantidade</th>\n",
       "      <th>Preço Unitário</th>\n",
       "    </tr>\n",
       "    <tr>\n",
       "      <th>Itens</th>\n",
       "      <th></th>\n",
       "      <th></th>\n",
       "    </tr>\n",
       "  </thead>\n",
       "  <tbody>\n",
       "    <tr>\n",
       "      <th>Leite</th>\n",
       "      <td>4.0</td>\n",
       "      <td>3.0</td>\n",
       "    </tr>\n",
       "    <tr>\n",
       "      <th>Ovos</th>\n",
       "      <td>3.0</td>\n",
       "      <td>6.5</td>\n",
       "    </tr>\n",
       "    <tr>\n",
       "      <th>Carne</th>\n",
       "      <td>1.0</td>\n",
       "      <td>25.9</td>\n",
       "    </tr>\n",
       "    <tr>\n",
       "      <th>Arroz</th>\n",
       "      <td>5.0</td>\n",
       "      <td>5.0</td>\n",
       "    </tr>\n",
       "    <tr>\n",
       "      <th>Feijão</th>\n",
       "      <td>2.0</td>\n",
       "      <td>3.8</td>\n",
       "    </tr>\n",
       "  </tbody>\n",
       "</table>\n",
       "</div>"
      ],
      "text/plain": [
       "        Quantidade  Preço Unitário\n",
       "Itens                             \n",
       "Leite          4.0             3.0\n",
       "Ovos           3.0             6.5\n",
       "Carne          1.0            25.9\n",
       "Arroz          5.0             5.0\n",
       "Feijão         2.0             3.8"
      ]
     },
     "execution_count": 9,
     "metadata": {},
     "output_type": "execute_result"
    }
   ],
   "source": [
    "df = pd.DataFrame(\n",
    "    index=pd.Index(data=[\"Leite\", \"Ovos\", \"Carne\", \"Arroz\", \"Feijão\"], name=\"Itens\"),\n",
    "    columns=[\"Quantidade\",  \"Preço Unitário\"],\n",
    "    data=np.array([  [4, 3, 1, 5, 2],\n",
    "                            [3.00, 6.50, 25.90, 5.00, 3.80]    ]).T,)\n",
    "df"
   ]
  },
  {
   "cell_type": "code",
   "execution_count": 10,
   "metadata": {
    "collapsed": true
   },
   "outputs": [],
   "source": [
    "#função de transformação\n",
    "def fn(x):\n",
    "    return x ** 3 / 100"
   ]
  },
  {
   "cell_type": "code",
   "execution_count": 11,
   "metadata": {},
   "outputs": [
    {
     "data": {
      "text/html": [
       "<div>\n",
       "<style>\n",
       "    .dataframe thead tr:only-child th {\n",
       "        text-align: right;\n",
       "    }\n",
       "\n",
       "    .dataframe thead th {\n",
       "        text-align: left;\n",
       "    }\n",
       "\n",
       "    .dataframe tbody tr th {\n",
       "        vertical-align: top;\n",
       "    }\n",
       "</style>\n",
       "<table border=\"1\" class=\"dataframe\">\n",
       "  <thead>\n",
       "    <tr style=\"text-align: right;\">\n",
       "      <th></th>\n",
       "      <th>Quantidade</th>\n",
       "      <th>Preço Unitário</th>\n",
       "    </tr>\n",
       "    <tr>\n",
       "      <th>Itens</th>\n",
       "      <th></th>\n",
       "      <th></th>\n",
       "    </tr>\n",
       "  </thead>\n",
       "  <tbody>\n",
       "    <tr>\n",
       "      <th>Leite</th>\n",
       "      <td>0.64</td>\n",
       "      <td>0.27000</td>\n",
       "    </tr>\n",
       "    <tr>\n",
       "      <th>Ovos</th>\n",
       "      <td>0.27</td>\n",
       "      <td>2.74625</td>\n",
       "    </tr>\n",
       "    <tr>\n",
       "      <th>Carne</th>\n",
       "      <td>0.01</td>\n",
       "      <td>173.73979</td>\n",
       "    </tr>\n",
       "    <tr>\n",
       "      <th>Arroz</th>\n",
       "      <td>1.25</td>\n",
       "      <td>1.25000</td>\n",
       "    </tr>\n",
       "    <tr>\n",
       "      <th>Feijão</th>\n",
       "      <td>0.08</td>\n",
       "      <td>0.54872</td>\n",
       "    </tr>\n",
       "  </tbody>\n",
       "</table>\n",
       "</div>"
      ],
      "text/plain": [
       "        Quantidade  Preço Unitário\n",
       "Itens                             \n",
       "Leite         0.64         0.27000\n",
       "Ovos          0.27         2.74625\n",
       "Carne         0.01       173.73979\n",
       "Arroz         1.25         1.25000\n",
       "Feijão        0.08         0.54872"
      ]
     },
     "execution_count": 11,
     "metadata": {},
     "output_type": "execute_result"
    }
   ],
   "source": [
    "#transformação elemento a elemento\n",
    "df.applymap(fn)"
   ]
  },
  {
   "cell_type": "code",
   "execution_count": 12,
   "metadata": {
    "collapsed": true
   },
   "outputs": [],
   "source": [
    "#linhas e colunas\n",
    "def fn(x):\n",
    "    return x.product()"
   ]
  },
  {
   "cell_type": "code",
   "execution_count": 13,
   "metadata": {},
   "outputs": [
    {
     "data": {
      "text/plain": [
       "Quantidade         120.00\n",
       "Preço Unitário    9595.95\n",
       "dtype: float64"
      ]
     },
     "execution_count": 13,
     "metadata": {},
     "output_type": "execute_result"
    }
   ],
   "source": [
    "df.apply(fn)"
   ]
  },
  {
   "cell_type": "code",
   "execution_count": 14,
   "metadata": {},
   "outputs": [
    {
     "data": {
      "text/plain": [
       "Itens\n",
       "Leite     12.0\n",
       "Ovos      19.5\n",
       "Carne     25.9\n",
       "Arroz     25.0\n",
       "Feijão     7.6\n",
       "dtype: float64"
      ]
     },
     "execution_count": 14,
     "metadata": {},
     "output_type": "execute_result"
    }
   ],
   "source": [
    "df.apply(fn, axis=1)"
   ]
  },
  {
   "cell_type": "code",
   "execution_count": 3,
   "metadata": {},
   "outputs": [
    {
     "name": "stderr",
     "output_type": "stream",
     "text": [
      "C:\\Users\\tati\\Anaconda3\\lib\\site-packages\\numpy\\lib\\arraysetops.py:463: FutureWarning: elementwise comparison failed; returning scalar instead, but in the future will perform elementwise comparison\n",
      "  mask |= (ar1 == a)\n"
     ]
    }
   ],
   "source": [
    "file_name = os.path.join(\"data\", \"dataset.csv\")\n",
    "dataset = pd.read_csv(file_name, sep=\",\", index_col=0, encoding=\"utf-8\")"
   ]
  },
  {
   "cell_type": "code",
   "execution_count": 4,
   "metadata": {},
   "outputs": [
    {
     "data": {
      "text/html": [
       "<div>\n",
       "<style>\n",
       "    .dataframe thead tr:only-child th {\n",
       "        text-align: right;\n",
       "    }\n",
       "\n",
       "    .dataframe thead th {\n",
       "        text-align: left;\n",
       "    }\n",
       "\n",
       "    .dataframe tbody tr th {\n",
       "        vertical-align: top;\n",
       "    }\n",
       "</style>\n",
       "<table border=\"1\" class=\"dataframe\">\n",
       "  <thead>\n",
       "    <tr style=\"text-align: right;\">\n",
       "      <th></th>\n",
       "      <th>order_id</th>\n",
       "      <th>user_id</th>\n",
       "      <th>order_dow</th>\n",
       "      <th>department</th>\n",
       "      <th>aisle</th>\n",
       "      <th>product_name</th>\n",
       "    </tr>\n",
       "  </thead>\n",
       "  <tbody>\n",
       "    <tr>\n",
       "      <th>0</th>\n",
       "      <td>1187899</td>\n",
       "      <td>1</td>\n",
       "      <td>wednesday</td>\n",
       "      <td>beverages</td>\n",
       "      <td>soft drinks</td>\n",
       "      <td>Soda</td>\n",
       "    </tr>\n",
       "    <tr>\n",
       "      <th>1</th>\n",
       "      <td>2757217</td>\n",
       "      <td>67</td>\n",
       "      <td>saturday</td>\n",
       "      <td>beverages</td>\n",
       "      <td>soft drinks</td>\n",
       "      <td>Soda</td>\n",
       "    </tr>\n",
       "    <tr>\n",
       "      <th>2</th>\n",
       "      <td>632715</td>\n",
       "      <td>676</td>\n",
       "      <td>saturday</td>\n",
       "      <td>beverages</td>\n",
       "      <td>soft drinks</td>\n",
       "      <td>Soda</td>\n",
       "    </tr>\n",
       "    <tr>\n",
       "      <th>3</th>\n",
       "      <td>1167274</td>\n",
       "      <td>760</td>\n",
       "      <td>wednesday</td>\n",
       "      <td>beverages</td>\n",
       "      <td>soft drinks</td>\n",
       "      <td>Soda</td>\n",
       "    </tr>\n",
       "    <tr>\n",
       "      <th>4</th>\n",
       "      <td>3347074</td>\n",
       "      <td>804</td>\n",
       "      <td>tuesday</td>\n",
       "      <td>beverages</td>\n",
       "      <td>soft drinks</td>\n",
       "      <td>Soda</td>\n",
       "    </tr>\n",
       "  </tbody>\n",
       "</table>\n",
       "</div>"
      ],
      "text/plain": [
       "   order_id  user_id  order_dow department        aisle product_name\n",
       "0   1187899        1  wednesday  beverages  soft drinks         Soda\n",
       "1   2757217       67   saturday  beverages  soft drinks         Soda\n",
       "2    632715      676   saturday  beverages  soft drinks         Soda\n",
       "3   1167274      760  wednesday  beverages  soft drinks         Soda\n",
       "4   3347074      804    tuesday  beverages  soft drinks         Soda"
      ]
     },
     "execution_count": 4,
     "metadata": {},
     "output_type": "execute_result"
    }
   ],
   "source": [
    "# baseado em uma thread do Kaggle sobre esse desafio, os dias da semana são definidos na seguinte ordem:\n",
    "week_days = [\"saturday\", \"sunday\", \"monday\", \"tuesday\", \"wednesday\", \"thursday\", \"friday\"]\n",
    "\n",
    "# traduzindo no dataset\n",
    "dataset.order_dow = dataset.order_dow.map(lambda wd: week_days[wd])\n",
    "dataset.head()"
   ]
  },
  {
   "cell_type": "markdown",
   "metadata": {},
   "source": [
    "# lambda"
   ]
  },
  {
   "cell_type": "code",
   "execution_count": 5,
   "metadata": {
    "collapsed": true
   },
   "outputs": [],
   "source": [
    "raise_to_power = lambda x, y: x ** y"
   ]
  },
  {
   "cell_type": "code",
   "execution_count": 6,
   "metadata": {},
   "outputs": [
    {
     "data": {
      "text/plain": [
       "8"
      ]
     },
     "execution_count": 6,
     "metadata": {},
     "output_type": "execute_result"
    }
   ],
   "source": [
    "raise_to_power(2, 3)"
   ]
  },
  {
   "cell_type": "markdown",
   "metadata": {},
   "source": [
    "### anonymously embed operations within functions"
   ]
  },
  {
   "cell_type": "code",
   "execution_count": null,
   "metadata": {
    "collapsed": true
   },
   "outputs": [],
   "source": [
    "map(lambda function, sequence to apply function)"
   ]
  },
  {
   "cell_type": "code",
   "execution_count": null,
   "metadata": {
    "collapsed": true
   },
   "outputs": [],
   "source": [
    "filter(lambda function, variable to filter)"
   ]
  },
  {
   "cell_type": "code",
   "execution_count": null,
   "metadata": {
    "collapsed": true
   },
   "outputs": [],
   "source": [
    "from functools import reduce\n",
    "reduce(lambda function, list to apply function)"
   ]
  },
  {
   "cell_type": "code",
   "execution_count": null,
   "metadata": {
    "collapsed": true
   },
   "outputs": [],
   "source": [
    "default and flexible arguments\n",
    "*arg (is a list)\n",
    "**kwargs (is a dictionary)"
   ]
  },
  {
   "cell_type": "code",
   "execution_count": null,
   "metadata": {
    "collapsed": true
   },
   "outputs": [],
   "source": [
    "for k,v in kwargs.items():\n",
    "        print(k + \": \" + v)"
   ]
  },
  {
   "cell_type": "code",
   "execution_count": null,
   "metadata": {
    "collapsed": true
   },
   "outputs": [],
   "source": [
    "scope\n",
    "Local\n",
    "Enclosing functions\n",
    "Global\n",
    "Built-in"
   ]
  },
  {
   "cell_type": "code",
   "execution_count": null,
   "metadata": {
    "collapsed": true
   },
   "outputs": [],
   "source": [
    "global variable\n",
    "nonlocal variable\n",
    "import builtins\n",
    "dir(builtins)"
   ]
  }
 ],
 "metadata": {
  "kernelspec": {
   "display_name": "Python 3",
   "language": "python",
   "name": "python3"
  },
  "language_info": {
   "codemirror_mode": {
    "name": "ipython",
    "version": 3
   },
   "file_extension": ".py",
   "mimetype": "text/x-python",
   "name": "python",
   "nbconvert_exporter": "python",
   "pygments_lexer": "ipython3",
   "version": "3.6.4"
  }
 },
 "nbformat": 4,
 "nbformat_minor": 2
}
